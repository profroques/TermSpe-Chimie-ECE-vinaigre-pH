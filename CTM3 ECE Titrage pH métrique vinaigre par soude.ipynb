{
 "cells": [
  {
   "cell_type": "code",
   "execution_count": null,
   "id": "8656e68f",
   "metadata": {},
   "outputs": [],
   "source": [
    "import numpy as np\n",
    "from matplotlib import pyplot as plt\n",
    "print(\"Attention : pour les valeurs décimales, mettre un point à la place des virgules\")\n",
    "print()\n",
    "Ca= float(input(\"Entrer la valeur Ca de la concentration de l’acide DILUE (20 fois) à titrer en mol/L : Ca = \"))\n",
    "Va= float(input(\"Entrer le volume Va d’acide titré en mL : Va = \"))\n",
    "Cb= float(input(\"Entrer la valeur de la concentration Cb de la base contenue dans la burette graduée en mol/L : Cb = \"))\n",
    "N=int(input(\"Nombre N de points de la courbe - N = \"))\n",
    "V= float(input(\"Entrer le volume de la burette graduée en mL : V = \"))\n",
    "Vb=[]\n",
    "naf=[]\n",
    "nbf=[]\n",
    "Vbe=*****A COMPLETER*******\n",
    "for i in range (0,N+1):\n",
    "    Vb.append(V*i/N)\n",
    "    if Vb[i]< Vbe :\n",
    "        nbf.append(0)\n",
    "        naf.append(Ca*Va/1000-Cb*Vb[i]/(1000))\n",
    "    else : \n",
    "        nbf.append(Cb*Vb[i]/1000-Ca*Va/1000)\n",
    "        naf.append(0)\n",
    "plt.title(\"Evolution des quantités d’acide et de base au cours du titrage\")\n",
    "plt.xlabel(\"Volume de base versé Vb(mL)\")\n",
    "plt.ylabel(\"quantités de matière en mol\")\n",
    "plt.grid(True)\n",
    "plt.plot(Vb,naf,c='red',label=\"Quantité d’acide présente dans le bécher : na(mol)\")\n",
    "plt.plot(Vb,nbf,c='blue',label=\"Quantité de base présente dans le bécher : nb(mol)\")\n",
    "plt.legend()\n",
    "plt.show()"
   ]
  },
  {
   "cell_type": "code",
   "execution_count": null,
   "id": "b3409eca",
   "metadata": {},
   "outputs": [],
   "source": []
  }
 ],
 "metadata": {
  "kernelspec": {
   "display_name": "Python 3",
   "language": "python",
   "name": "python3"
  },
  "language_info": {
   "codemirror_mode": {
    "name": "ipython",
    "version": 3
   },
   "file_extension": ".py",
   "mimetype": "text/x-python",
   "name": "python",
   "nbconvert_exporter": "python",
   "pygments_lexer": "ipython3",
   "version": "3.8.8"
  }
 },
 "nbformat": 4,
 "nbformat_minor": 5
}
